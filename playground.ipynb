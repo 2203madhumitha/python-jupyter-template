{
 "cells": [
  {
   "cell_type": "markdown",
   "id": "3ba7f41b",
   "metadata": {},
   "source": [
    "print('Hello, Madhumitha')"
   ]
  },
  {
   "cell_type": "markdown",
   "id": "8662ca29",
   "metadata": {},
   "source": []
  }
 ],
 "metadata": {
  "kernelspec": {
   "display_name": "Python 3",
   "language": "python",
   "name": "python3"
  },
  "language_info": {
   "name": "python",
   "version": "3.10.12"
  }
 },
 "nbformat": 4,
 "nbformat_minor": 5
}
